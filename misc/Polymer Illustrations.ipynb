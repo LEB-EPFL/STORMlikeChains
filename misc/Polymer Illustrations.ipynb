{
 "metadata": {
  "name": "",
  "signature": "sha256:a251f9092830daf6d47194778d5aa1c0fa1fb20c6624a05403206f0731bed23b"
 },
 "nbformat": 3,
 "nbformat_minor": 0,
 "worksheets": [
  {
   "cells": [
    {
     "cell_type": "code",
     "collapsed": false,
     "input": [
      "%pylab\n",
      "\n",
      "import rw\n",
      "from mpl_toolkits.mplot3d import Axes3D"
     ],
     "language": "python",
     "metadata": {},
     "outputs": [
      {
       "output_type": "stream",
       "stream": "stdout",
       "text": [
        "Using matplotlib backend: TkAgg\n",
        "Populating the interactive namespace from numpy and matplotlib\n"
       ]
      }
     ],
     "prompt_number": 1
    },
    {
     "cell_type": "markdown",
     "metadata": {},
     "source": [
      "I am making sketches of polymers with their labled counterparts to illustrate the process."
     ]
    },
    {
     "cell_type": "code",
     "collapsed": false,
     "input": [
      "numSegments, pLength = 250, 50 # 250 nm long chain with 50 nm persistence length\n",
      "options = {'color'     : '#000000',\n",
      "           'linewidth' : 4}\n",
      "\n",
      "#myChain = rw.WormlikeChain(numSegments, pLength)\n",
      "#path = myChain.path\n",
      "\n",
      "eAngle, aAngle = 25, 130\n",
      "\n",
      "# Plot just the polymer chain\n",
      "fig = plt.figure(figsize = (8,6))\n",
      "ax = fig.add_subplot(111, projection = '3d')\n",
      "ax.plot(path[:,0], path[:,1], path[:,2], **options)\n",
      "ax.view_init(elev = eAngle, azim = aAngle)\n"
     ],
     "language": "python",
     "metadata": {},
     "outputs": [],
     "prompt_number": 35
    },
    {
     "cell_type": "code",
     "collapsed": false,
     "input": [
      "eAngle, aAngle = 40, 130\n",
      "plotLims = (-100, 100)\n",
      "\n",
      "# Plot just the polymer chain\n",
      "fig = plt.figure(figsize = (8,6), dpi = 600)\n",
      "ax = fig.add_subplot(111, projection = '3d')\n",
      "ax.plot(path[:,0], path[:,1], path[:,2], **options)\n",
      "\n",
      "fig.patch.set_alpha(0)\n",
      "ax.patch.set_alpha(0)\n",
      "ax.view_init(elev = eAngle, azim = aAngle)\n",
      "ax.set_xticks([]); ax.set_yticks([]); ax.set_zticks([])\n",
      "ax.w_xaxis.line.set_linewidth(0); ax.w_yaxis.line.set_linewidth(0); ax.w_zaxis.line.set_linewidth(0)\n",
      "ax.set_xlim((-50,50)); ax.set_ylim(-50, 60); ax.set_zlim(-20, 160)\n",
      "\n",
      "plt.savefig('polymer2.svg')\n",
      "plt.savefig('polymer2.png')"
     ],
     "language": "python",
     "metadata": {},
     "outputs": [],
     "prompt_number": 37
    },
    {
     "cell_type": "markdown",
     "metadata": {},
     "source": [
      "Now, let's downsample the polymer by removing a number of segments."
     ]
    },
    {
     "cell_type": "code",
     "collapsed": false,
     "input": [
      "numLocalizations = 100\n",
      "\n",
      "# Reduce the number of segments in the chain by randomly keeping a certain number, discarding the rest.\n",
      "indexes = np.arange(path.shape[0]); np.random.shuffle(indexes)\n",
      "dsPath = path[indexes[:numLocalizations],]\n",
      "\n",
      "fig = plt.figure(figsize = (8,6), dpi = 600)\n",
      "ax = fig.add_subplot(111, projection = '3d')\n",
      "ax.plot(dsPath[:,0], dsPath[:,1], dsPath[:,2], 'or')\n",
      "\n",
      "fig.patch.set_alpha(0)\n",
      "ax.patch.set_alpha(0)\n",
      "ax.view_init(elev = eAngle, azim = aAngle)\n",
      "ax.set_xticks([]); ax.set_yticks([]); ax.set_zticks([])\n",
      "ax.w_xaxis.line.set_linewidth(0); ax.w_yaxis.line.set_linewidth(0); ax.w_zaxis.line.set_linewidth(0)\n",
      "ax.set_xlim((-50,50)); ax.set_ylim(-50, 60); ax.set_zlim(-20, 160)\n",
      "\n",
      "plt.savefig('dsPolymer2.svg')\n",
      "plt.savefig('dsPolymer2.png')"
     ],
     "language": "python",
     "metadata": {},
     "outputs": [],
     "prompt_number": 38
    },
    {
     "cell_type": "markdown",
     "metadata": {},
     "source": [
      "Now, due to the imprecise localization precision, we'll randomly bump the points in a distance determined by a Gaussian distribution with a standard deviation equal to the precision."
     ]
    },
    {
     "cell_type": "code",
     "collapsed": false,
     "input": [
      "locPrecision = 10\n",
      "\n",
      "# Randomly bump segments\n",
      "bumps = np.random.randn(numLocalizations, 3) * locPrecision\n",
      "dsPathBumped = dsPath + bumps\n",
      "\n",
      "fig = plt.figure(figsize = (8,6), dpi = 600)\n",
      "ax = fig.add_subplot(111, projection = '3d')\n",
      "#ax.plot(path[:,0], path[:,1], path[:,2], **options)\n",
      "ax.plot(dsPath[:,0], dsPath[:,1], dsPath[:,2], 'or', alpha = 0.2)\n",
      "ax.plot(dsPathBumped[:,0], dsPathBumped[:,1], dsPathBumped[:,2], 'or')\n",
      "\n",
      "fig.patch.set_alpha(0)\n",
      "ax.patch.set_alpha(0)\n",
      "ax.view_init(elev = eAngle, azim = aAngle)\n",
      "ax.set_xticks([]); ax.set_yticks([]); ax.set_zticks([])\n",
      "ax.w_xaxis.line.set_linewidth(0); ax.w_yaxis.line.set_linewidth(0); ax.w_zaxis.line.set_linewidth(0)\n",
      "ax.set_xlim((-50,50)); ax.set_ylim(-50, 60); ax.set_zlim(-20, 160)\n",
      "\n",
      "plt.savefig('localizations2.svg')\n",
      "plt.savefig('localizations2.png')"
     ],
     "language": "python",
     "metadata": {},
     "outputs": [],
     "prompt_number": 39
    },
    {
     "cell_type": "markdown",
     "metadata": {},
     "source": [
      "Finally, we remove the semi-visible original polymer from the plot."
     ]
    },
    {
     "cell_type": "code",
     "collapsed": false,
     "input": [
      "fig = plt.figure(figsize = (8,6), dpi = 600)\n",
      "ax = fig.add_subplot(111, projection = '3d')\n",
      "#ax.plot(path[:,0], path[:,1], path[:,2], **options)\n",
      "ax.plot(dsPathBumped[:,0], dsPathBumped[:,1], dsPathBumped[:,2], 'or')\n",
      "\n",
      "fig.patch.set_alpha(0)\n",
      "ax.patch.set_alpha(0)\n",
      "ax.view_init(elev = eAngle, azim = aAngle)\n",
      "ax.set_xticks([]); ax.set_yticks([]); ax.set_zticks([])\n",
      "ax.w_xaxis.line.set_linewidth(0); ax.w_yaxis.line.set_linewidth(0); ax.w_zaxis.line.set_linewidth(0)\n",
      "ax.set_xlim((-50,50)); ax.set_ylim(-50, 60); ax.set_zlim(-20, 160)\n",
      "\n",
      "plt.savefig('localizations_only2.svg')\n",
      "plt.savefig('localizations_only2.png')"
     ],
     "language": "python",
     "metadata": {},
     "outputs": [],
     "prompt_number": 40
    },
    {
     "cell_type": "heading",
     "level": 3,
     "metadata": {},
     "source": [
      "Draw a sphere over the points to represent the Rg"
     ]
    },
    {
     "cell_type": "code",
     "collapsed": false,
     "input": [
      "u                         = np.linspace(0, np.pi, 30)\n",
      "v                         = np.linspace(0, 2 * np.pi, 30)\n",
      "centerX, centerY, centerZ = np.mean(dsPathBumped, axis = 0)\n",
      "radius = 30\n",
      "\n",
      "x = 1.05 * radius * np.outer(np.sin(u), np.sin(v)) + centerX\n",
      "y = 1.25 * radius * np.outer(np.sin(u), np.cos(v)) + centerY\n",
      "z = 1.5 * radius * np.outer(np.cos(u), np.ones_like(v)) + centerZ\n",
      "\n",
      "\n",
      "fig = plt.figure(figsize = (8,6))\n",
      "ax = plt.axes(projection='3d')\n",
      "\n",
      "ax.plot(dsPathBumped[:,0], dsPathBumped[:,1], dsPathBumped[:,2], 'or', alpha = 0.5)\n",
      "ax.plot_wireframe(x, y, z, color = '#555555', linewidth = 0.5)\n",
      "\n",
      "fig.patch.set_alpha(0)\n",
      "ax.patch.set_alpha(0)\n",
      "ax.view_init(elev = eAngle, azim = aAngle)\n",
      "ax.set_xticks([]); ax.set_yticks([]); ax.set_zticks([])\n",
      "ax.w_xaxis.line.set_linewidth(0); ax.w_yaxis.line.set_linewidth(0); ax.w_zaxis.line.set_linewidth(0)\n",
      "ax.set_xlim((-50,50)); ax.set_ylim(-50, 60); ax.set_zlim(-20, 160)\n",
      "\n",
      "plt.savefig('findRg2.svg')\n",
      "plt.savefig('findRg2.png')"
     ],
     "language": "python",
     "metadata": {},
     "outputs": [],
     "prompt_number": 53
    },
    {
     "cell_type": "code",
     "collapsed": false,
     "input": [
      "np.save('plotChain2.npy', path)"
     ],
     "language": "python",
     "metadata": {},
     "outputs": [],
     "prompt_number": 54
    },
    {
     "cell_type": "code",
     "collapsed": false,
     "input": [],
     "language": "python",
     "metadata": {},
     "outputs": [],
     "prompt_number": 42
    }
   ],
   "metadata": {}
  }
 ]
}